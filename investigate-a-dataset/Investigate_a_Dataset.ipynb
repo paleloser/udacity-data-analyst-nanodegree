{
 "cells": [
  {
   "attachments": {},
   "cell_type": "markdown",
   "metadata": {},
   "source": [
    "# Project: Investigate a Dataset - Soccer Database\n",
    "\n",
    "## Table of Contents\n",
    "<ul>\n",
    "<li><a href=\"#intro\">Introduction</a></li>\n",
    "<li><a href=\"#wrangling\">Data Wrangling</a></li>\n",
    "<li><a href=\"#eda\">Exploratory Data Analysis</a></li>\n",
    "<li><a href=\"#conclusions\">Conclusions</a></li>\n",
    "</ul>"
   ]
  },
  {
   "attachments": {},
   "cell_type": "markdown",
   "metadata": {},
   "source": [
    "<a id='intro'></a>\n",
    "## Introduction\n",
    "\n",
    "### Dataset Description \n",
    "\n",
    "In this dataset, we are given seven tables with information about soccer matches, leagues, teams and players. We can find relationships between some of these tables, which may help us to traverse and correlate the distributed information. Below, each table is described, explaining its columns and relationships with other tables within the dataset:\n",
    "\n",
    "* **Country**: this table hosts information about countries where matches took event. We'll skip the details of this table, as we won't make use of it for our analysis.\n",
    "* **League**: this table offers basic information about a league where different teams disputed a set of matches within a country (so it is directly related to `Country` and `Match` tables). These are the columns of the table:\n",
    "  * `id` (`int`, primary key): unique identifier of each league.\n",
    "  * `country_id` (`int`, `Country` foreign key): reference to a country from `Country` table.\n",
    "  * `name` (`String`): league name.\n",
    "* **Match**: this table is quite complex, as it not only offers game data (such as goals per team, season, date...) but also betting data. For the scope of this exercise, we'll only put focus on the game data (so we'll need to clean the columns not needed later on with `pandas`). The table columns useful for this exercise are:\n",
    "  * `id` (`int`, primary key): unique identifier of the match.\n",
    "  * `country_id` (`int`, `Country` foreign key): reference to a country from `Country` table.\n",
    "  * `league_id` (`int`, `League` foreign key): reference to a league from `League` table.\n",
    "  * `date` (`String/Date`): specifies in which day was the match played.\n",
    "  * `home_team_api_id` (`int`, `Team` foreign key): reference to a team from `Team` table. This team was the _host_ of the game (the match took place on its stadium).\n",
    "  * `away_team_api_id` (`int`, `Team` foreign key): reference to a team from `Team` table. This team was the _guest_ of the game (the one playing on a foreign stadium).\n",
    "  * `home_team_goal` (`int`): number of goals scored by the team identified through `home_team_api_id`\n",
    "  * `away_team_goal` (`int`): number of goals scored by the team identified through `away_team_api_id`\n",
    "  The table offers other fields such as `stage`, `goal`, `shoton`, `possession`... which are discarded due to lack of documentation and data inconsistency (some of these values are raw HTML unsuitable for analysis). Additionally, we'll skip `player`-specific columns, as we won't put focus on players for our analysis, but on the overall team attributes (see posed questions below). It may be interesting to add a couple of columns to this table indicating the id of the winner and loser teams.\n",
    "* **Player**: in this table we find specific attributes describing the athletes who played the game. Since we'll be focusing on team aspects for our analysis (see posed questions below), we'll skip the details of this table.\n",
    "* **Player_Attributes**: this table describes different athlete attributes at different points of time, extracted from Electronic Arts (EA) Sports' FIFA video game. The contents of this table can be useful to correlate team victories/loses according to the players in the match. The table has up to 42 columns with different athlete statistics. Again, we'll skip the details of this table, as we're not interested on it for our analysis (see posed questions below).\n",
    "* **Team**: this table hosts information about the teams that played matches. The main columns are:\n",
    "  * `id` (`int`, primary key): just like with table `Player`, this won't be used.\n",
    "  * `team_api_id` (`int`, unique key): this is the identifier that will be used to traverse relationships between tables. It uniquely identifies a team.\n",
    "  * `team_short_name` (`string`): short identifier for the team. Usually, this is the text we can find in the score board to identify each team.\n",
    "  * `team_long_name` (`String`): full team name.\n",
    "* **Team_Attributes**: in this table, we can find again data from EA Sports describing each team. The table has up to 25 columns with different team statistics. After posing the questions for the analysis, we'll decide which ones are interesting for us. For now, it's important no know about the following columns:\n",
    "  * `id` (`int`, primary key): unique identifier of the attributes.\n",
    "  * `team_api_id` (`int`, `Team` foreign key): reference to a team from `Team` table.\n",
    "  * `date` (`String/Date`): when do these attributes belong to the team.\n",
    "\n",
    "\n",
    "### Question(s) for Analysis\n",
    "In this exercise, we'll be interested in finding trends among the teams who won most matches and how they differ to those who lost the most. Since we have specific attributes about the teams themselves, and about the players that build up a team, we can pose questions to try find out how these affect to the match result:\n",
    "\n",
    "_Q1: What team attributes lead to the most victories?_  \n",
    "_Q2: If we split the winners by league, do their team attributes vary?_  "
   ]
  },
  {
   "cell_type": "code",
   "execution_count": 161,
   "metadata": {
    "collapsed": true
   },
   "outputs": [],
   "source": [
    "import matplotlib.pyplot as plt\n",
    "import numpy as np\n",
    "import pandas as pd\n",
    "%matplotlib inline"
   ]
  },
  {
   "cell_type": "code",
   "execution_count": 162,
   "metadata": {},
   "outputs": [
    {
     "name": "stdout",
     "output_type": "stream",
     "text": [
      "Requirement already satisfied: pandas==0.25.0 in /Users/pcaraballo/opt/anaconda3/envs/udacity-nanodegree/lib/python3.6/site-packages (0.25.0)\n",
      "Requirement already satisfied: python-dateutil>=2.6.1 in /Users/pcaraballo/opt/anaconda3/envs/udacity-nanodegree/lib/python3.6/site-packages (from pandas==0.25.0) (2.8.2)\n",
      "Requirement already satisfied: numpy>=1.13.3 in /Users/pcaraballo/opt/anaconda3/envs/udacity-nanodegree/lib/python3.6/site-packages (from pandas==0.25.0) (1.19.2)\n",
      "Requirement already satisfied: pytz>=2017.2 in /Users/pcaraballo/opt/anaconda3/envs/udacity-nanodegree/lib/python3.6/site-packages (from pandas==0.25.0) (2021.3)\n",
      "Requirement already satisfied: six>=1.5 in /Users/pcaraballo/opt/anaconda3/envs/udacity-nanodegree/lib/python3.6/site-packages (from python-dateutil>=2.6.1->pandas==0.25.0) (1.16.0)\n"
     ]
    }
   ],
   "source": [
    "# Upgrade pandas to use dataframe.explode() function. \n",
    "!pip install --upgrade pandas==0.25.0"
   ]
  },
  {
   "attachments": {},
   "cell_type": "markdown",
   "metadata": {},
   "source": [
    "<a id='wrangling'></a>\n",
    "## Data Wrangling\n",
    "\n",
    "### General Properties\n",
    "\n",
    "As we saw earlier on the Dataset Description section, we will be making use of tables `League`, `Match`, `Team_Attributes` and `Team`. We will take a quick look at their structure, datatypes and values to get a first picture of the data we're dealing with.\n",
    "\n",
    "#### League"
   ]
  },
  {
   "cell_type": "code",
   "execution_count": 163,
   "metadata": {
    "collapsed": true
   },
   "outputs": [
    {
     "name": "stdout",
     "output_type": "stream",
     "text": [
      "<class 'pandas.core.frame.DataFrame'>\n",
      "Int64Index: 11 entries, 1 to 24558\n",
      "Data columns (total 2 columns):\n",
      "country_id    11 non-null int64\n",
      "name          11 non-null object\n",
      "dtypes: int64(1), object(1)\n",
      "memory usage: 264.0+ bytes\n"
     ]
    }
   ],
   "source": [
    "df_league = pd.read_csv('League.csv', index_col='id')\n",
    "df_league.info()"
   ]
  },
  {
   "attachments": {},
   "cell_type": "markdown",
   "metadata": {},
   "source": [
    "We can see this dataframe has 11 rows and 3 columns (as described above). In order to make sure that the columns' values fullfill the datatypes we'll print some of them:"
   ]
  },
  {
   "cell_type": "code",
   "execution_count": 164,
   "metadata": {},
   "outputs": [
    {
     "data": {
      "text/html": [
       "<div>\n",
       "<style scoped>\n",
       "    .dataframe tbody tr th:only-of-type {\n",
       "        vertical-align: middle;\n",
       "    }\n",
       "\n",
       "    .dataframe tbody tr th {\n",
       "        vertical-align: top;\n",
       "    }\n",
       "\n",
       "    .dataframe thead th {\n",
       "        text-align: right;\n",
       "    }\n",
       "</style>\n",
       "<table border=\"1\" class=\"dataframe\">\n",
       "  <thead>\n",
       "    <tr style=\"text-align: right;\">\n",
       "      <th></th>\n",
       "      <th>country_id</th>\n",
       "      <th>name</th>\n",
       "    </tr>\n",
       "    <tr>\n",
       "      <th>id</th>\n",
       "      <th></th>\n",
       "      <th></th>\n",
       "    </tr>\n",
       "  </thead>\n",
       "  <tbody>\n",
       "    <tr>\n",
       "      <th>1</th>\n",
       "      <td>1</td>\n",
       "      <td>Belgium Jupiler League</td>\n",
       "    </tr>\n",
       "    <tr>\n",
       "      <th>1729</th>\n",
       "      <td>1729</td>\n",
       "      <td>England Premier League</td>\n",
       "    </tr>\n",
       "    <tr>\n",
       "      <th>4769</th>\n",
       "      <td>4769</td>\n",
       "      <td>France Ligue 1</td>\n",
       "    </tr>\n",
       "    <tr>\n",
       "      <th>7809</th>\n",
       "      <td>7809</td>\n",
       "      <td>Germany 1. Bundesliga</td>\n",
       "    </tr>\n",
       "    <tr>\n",
       "      <th>10257</th>\n",
       "      <td>10257</td>\n",
       "      <td>Italy Serie A</td>\n",
       "    </tr>\n",
       "  </tbody>\n",
       "</table>\n",
       "</div>"
      ],
      "text/plain": [
       "       country_id                    name\n",
       "id                                       \n",
       "1               1  Belgium Jupiler League\n",
       "1729         1729  England Premier League\n",
       "4769         4769          France Ligue 1\n",
       "7809         7809   Germany 1. Bundesliga\n",
       "10257       10257           Italy Serie A"
      ]
     },
     "execution_count": 164,
     "metadata": {},
     "output_type": "execute_result"
    }
   ],
   "source": [
    "df_league.head()"
   ]
  },
  {
   "attachments": {},
   "cell_type": "markdown",
   "metadata": {},
   "source": [
    "We can see that the values match their types. Finally, we'll look for duplicated values (we already know there are no `null` values as reported through `.info()`):"
   ]
  },
  {
   "cell_type": "code",
   "execution_count": 165,
   "metadata": {},
   "outputs": [
    {
     "data": {
      "text/plain": [
       "0"
      ]
     },
     "execution_count": 165,
     "metadata": {},
     "output_type": "execute_result"
    }
   ],
   "source": [
    "df_league.duplicated().sum()"
   ]
  },
  {
   "attachments": {},
   "cell_type": "markdown",
   "metadata": {},
   "source": [
    "There are no duplicates.\n",
    "\n",
    "#### Match"
   ]
  },
  {
   "cell_type": "code",
   "execution_count": 166,
   "metadata": {},
   "outputs": [
    {
     "name": "stdout",
     "output_type": "stream",
     "text": [
      "<class 'pandas.core.frame.DataFrame'>\n",
      "Int64Index: 25979 entries, 1 to 25979\n",
      "Columns: 114 entries, country_id to BSA\n",
      "dtypes: float64(96), int64(8), object(10)\n",
      "memory usage: 22.8+ MB\n"
     ]
    }
   ],
   "source": [
    "df_match = pd.read_csv('Match.csv', index_col='id')\n",
    "df_match.info()"
   ]
  },
  {
   "attachments": {},
   "cell_type": "markdown",
   "metadata": {},
   "source": [
    "This table is quite large, it contains 115 columns, which is greater than `pandas.options.display.max_info_columns` (100), therefore `pandas` won't print the columns info. In order to get the data types and obvserve null values, we could either increase this option value, or analyze the subset we're interested on. Priorizing performance, we'll just analyze the subset we're interested on (we'll cut the dataframe on section Data Cleaning):"
   ]
  },
  {
   "cell_type": "code",
   "execution_count": 167,
   "metadata": {},
   "outputs": [
    {
     "name": "stdout",
     "output_type": "stream",
     "text": [
      "<class 'pandas.core.frame.DataFrame'>\n",
      "Int64Index: 25979 entries, 1 to 25979\n",
      "Data columns (total 8 columns):\n",
      "season              25979 non-null object\n",
      "country_id          25979 non-null int64\n",
      "league_id           25979 non-null int64\n",
      "date                25979 non-null object\n",
      "home_team_api_id    25979 non-null int64\n",
      "away_team_api_id    25979 non-null int64\n",
      "home_team_goal      25979 non-null int64\n",
      "away_team_goal      25979 non-null int64\n",
      "dtypes: int64(6), object(2)\n",
      "memory usage: 1.8+ MB\n"
     ]
    }
   ],
   "source": [
    "match_cols = [\"season\", \"country_id\", \"league_id\", \"date\", \"home_team_api_id\", \"away_team_api_id\", \"home_team_goal\", \"away_team_goal\"]\n",
    "df_match[match_cols].info()"
   ]
  },
  {
   "attachments": {},
   "cell_type": "markdown",
   "metadata": {},
   "source": [
    "Now we can properly see that the datatypes match the expected specification. We can also observe that the dataframe contains 25979 rows and that there are no `null` values. There's only left to take a quick look to some samples, and to check for duplicates:"
   ]
  },
  {
   "cell_type": "code",
   "execution_count": 168,
   "metadata": {},
   "outputs": [
    {
     "data": {
      "text/html": [
       "<div>\n",
       "<style scoped>\n",
       "    .dataframe tbody tr th:only-of-type {\n",
       "        vertical-align: middle;\n",
       "    }\n",
       "\n",
       "    .dataframe tbody tr th {\n",
       "        vertical-align: top;\n",
       "    }\n",
       "\n",
       "    .dataframe thead th {\n",
       "        text-align: right;\n",
       "    }\n",
       "</style>\n",
       "<table border=\"1\" class=\"dataframe\">\n",
       "  <thead>\n",
       "    <tr style=\"text-align: right;\">\n",
       "      <th></th>\n",
       "      <th>country_id</th>\n",
       "      <th>league_id</th>\n",
       "      <th>season</th>\n",
       "      <th>stage</th>\n",
       "      <th>date</th>\n",
       "      <th>match_api_id</th>\n",
       "      <th>home_team_api_id</th>\n",
       "      <th>away_team_api_id</th>\n",
       "      <th>home_team_goal</th>\n",
       "      <th>away_team_goal</th>\n",
       "      <th>...</th>\n",
       "      <th>SJA</th>\n",
       "      <th>VCH</th>\n",
       "      <th>VCD</th>\n",
       "      <th>VCA</th>\n",
       "      <th>GBH</th>\n",
       "      <th>GBD</th>\n",
       "      <th>GBA</th>\n",
       "      <th>BSH</th>\n",
       "      <th>BSD</th>\n",
       "      <th>BSA</th>\n",
       "    </tr>\n",
       "    <tr>\n",
       "      <th>id</th>\n",
       "      <th></th>\n",
       "      <th></th>\n",
       "      <th></th>\n",
       "      <th></th>\n",
       "      <th></th>\n",
       "      <th></th>\n",
       "      <th></th>\n",
       "      <th></th>\n",
       "      <th></th>\n",
       "      <th></th>\n",
       "      <th></th>\n",
       "      <th></th>\n",
       "      <th></th>\n",
       "      <th></th>\n",
       "      <th></th>\n",
       "      <th></th>\n",
       "      <th></th>\n",
       "      <th></th>\n",
       "      <th></th>\n",
       "      <th></th>\n",
       "      <th></th>\n",
       "    </tr>\n",
       "  </thead>\n",
       "  <tbody>\n",
       "    <tr>\n",
       "      <th>1</th>\n",
       "      <td>1</td>\n",
       "      <td>1</td>\n",
       "      <td>2008/2009</td>\n",
       "      <td>1</td>\n",
       "      <td>2008-08-17 00:00:00</td>\n",
       "      <td>492473</td>\n",
       "      <td>9987</td>\n",
       "      <td>9993</td>\n",
       "      <td>1</td>\n",
       "      <td>1</td>\n",
       "      <td>...</td>\n",
       "      <td>4.00</td>\n",
       "      <td>1.65</td>\n",
       "      <td>3.40</td>\n",
       "      <td>4.50</td>\n",
       "      <td>1.78</td>\n",
       "      <td>3.25</td>\n",
       "      <td>4.00</td>\n",
       "      <td>1.73</td>\n",
       "      <td>3.40</td>\n",
       "      <td>4.20</td>\n",
       "    </tr>\n",
       "    <tr>\n",
       "      <th>2</th>\n",
       "      <td>1</td>\n",
       "      <td>1</td>\n",
       "      <td>2008/2009</td>\n",
       "      <td>1</td>\n",
       "      <td>2008-08-16 00:00:00</td>\n",
       "      <td>492474</td>\n",
       "      <td>10000</td>\n",
       "      <td>9994</td>\n",
       "      <td>0</td>\n",
       "      <td>0</td>\n",
       "      <td>...</td>\n",
       "      <td>3.80</td>\n",
       "      <td>2.00</td>\n",
       "      <td>3.25</td>\n",
       "      <td>3.25</td>\n",
       "      <td>1.85</td>\n",
       "      <td>3.25</td>\n",
       "      <td>3.75</td>\n",
       "      <td>1.91</td>\n",
       "      <td>3.25</td>\n",
       "      <td>3.60</td>\n",
       "    </tr>\n",
       "    <tr>\n",
       "      <th>3</th>\n",
       "      <td>1</td>\n",
       "      <td>1</td>\n",
       "      <td>2008/2009</td>\n",
       "      <td>1</td>\n",
       "      <td>2008-08-16 00:00:00</td>\n",
       "      <td>492475</td>\n",
       "      <td>9984</td>\n",
       "      <td>8635</td>\n",
       "      <td>0</td>\n",
       "      <td>3</td>\n",
       "      <td>...</td>\n",
       "      <td>2.50</td>\n",
       "      <td>2.35</td>\n",
       "      <td>3.25</td>\n",
       "      <td>2.65</td>\n",
       "      <td>2.50</td>\n",
       "      <td>3.20</td>\n",
       "      <td>2.50</td>\n",
       "      <td>2.30</td>\n",
       "      <td>3.20</td>\n",
       "      <td>2.75</td>\n",
       "    </tr>\n",
       "    <tr>\n",
       "      <th>4</th>\n",
       "      <td>1</td>\n",
       "      <td>1</td>\n",
       "      <td>2008/2009</td>\n",
       "      <td>1</td>\n",
       "      <td>2008-08-17 00:00:00</td>\n",
       "      <td>492476</td>\n",
       "      <td>9991</td>\n",
       "      <td>9998</td>\n",
       "      <td>5</td>\n",
       "      <td>0</td>\n",
       "      <td>...</td>\n",
       "      <td>7.50</td>\n",
       "      <td>1.45</td>\n",
       "      <td>3.75</td>\n",
       "      <td>6.50</td>\n",
       "      <td>1.50</td>\n",
       "      <td>3.75</td>\n",
       "      <td>5.50</td>\n",
       "      <td>1.44</td>\n",
       "      <td>3.75</td>\n",
       "      <td>6.50</td>\n",
       "    </tr>\n",
       "    <tr>\n",
       "      <th>5</th>\n",
       "      <td>1</td>\n",
       "      <td>1</td>\n",
       "      <td>2008/2009</td>\n",
       "      <td>1</td>\n",
       "      <td>2008-08-16 00:00:00</td>\n",
       "      <td>492477</td>\n",
       "      <td>7947</td>\n",
       "      <td>9985</td>\n",
       "      <td>1</td>\n",
       "      <td>3</td>\n",
       "      <td>...</td>\n",
       "      <td>1.73</td>\n",
       "      <td>4.50</td>\n",
       "      <td>3.40</td>\n",
       "      <td>1.65</td>\n",
       "      <td>4.50</td>\n",
       "      <td>3.50</td>\n",
       "      <td>1.65</td>\n",
       "      <td>4.75</td>\n",
       "      <td>3.30</td>\n",
       "      <td>1.67</td>\n",
       "    </tr>\n",
       "  </tbody>\n",
       "</table>\n",
       "<p>5 rows × 114 columns</p>\n",
       "</div>"
      ],
      "text/plain": [
       "    country_id  league_id     season  stage                 date  \\\n",
       "id                                                                 \n",
       "1            1          1  2008/2009      1  2008-08-17 00:00:00   \n",
       "2            1          1  2008/2009      1  2008-08-16 00:00:00   \n",
       "3            1          1  2008/2009      1  2008-08-16 00:00:00   \n",
       "4            1          1  2008/2009      1  2008-08-17 00:00:00   \n",
       "5            1          1  2008/2009      1  2008-08-16 00:00:00   \n",
       "\n",
       "    match_api_id  home_team_api_id  away_team_api_id  home_team_goal  \\\n",
       "id                                                                     \n",
       "1         492473              9987              9993               1   \n",
       "2         492474             10000              9994               0   \n",
       "3         492475              9984              8635               0   \n",
       "4         492476              9991              9998               5   \n",
       "5         492477              7947              9985               1   \n",
       "\n",
       "    away_team_goal  ...   SJA   VCH   VCD   VCA   GBH   GBD   GBA   BSH   BSD  \\\n",
       "id                  ...                                                         \n",
       "1                1  ...  4.00  1.65  3.40  4.50  1.78  3.25  4.00  1.73  3.40   \n",
       "2                0  ...  3.80  2.00  3.25  3.25  1.85  3.25  3.75  1.91  3.25   \n",
       "3                3  ...  2.50  2.35  3.25  2.65  2.50  3.20  2.50  2.30  3.20   \n",
       "4                0  ...  7.50  1.45  3.75  6.50  1.50  3.75  5.50  1.44  3.75   \n",
       "5                3  ...  1.73  4.50  3.40  1.65  4.50  3.50  1.65  4.75  3.30   \n",
       "\n",
       "     BSA  \n",
       "id        \n",
       "1   4.20  \n",
       "2   3.60  \n",
       "3   2.75  \n",
       "4   6.50  \n",
       "5   1.67  \n",
       "\n",
       "[5 rows x 114 columns]"
      ]
     },
     "execution_count": 168,
     "metadata": {},
     "output_type": "execute_result"
    }
   ],
   "source": [
    "df_match.head()"
   ]
  },
  {
   "cell_type": "code",
   "execution_count": 169,
   "metadata": {},
   "outputs": [
    {
     "data": {
      "text/plain": [
       "0"
      ]
     },
     "execution_count": 169,
     "metadata": {},
     "output_type": "execute_result"
    }
   ],
   "source": [
    "df_match[match_cols].duplicated().sum()"
   ]
  },
  {
   "attachments": {},
   "cell_type": "markdown",
   "metadata": {},
   "source": [
    "There are no duplicated rows, and the values match their column data types. Since we're highly interested on this table, we are going to check as well the time period in which we have data (this is, the earliest and latest dates):"
   ]
  },
  {
   "cell_type": "code",
   "execution_count": 170,
   "metadata": {},
   "outputs": [
    {
     "name": "stdout",
     "output_type": "stream",
     "text": [
      "Values range from 2008-07-18 00:00:00 to 2016-05-25 00:00:00\n"
     ]
    }
   ],
   "source": [
    "print(\"Values range from %s to %s\" % (df_match.sort_values('date').iloc[0]['date'], df_match.sort_values('date').iloc[-1]['date']))"
   ]
  },
  {
   "attachments": {},
   "cell_type": "markdown",
   "metadata": {},
   "source": [
    "It's also worth inspecting what time span does a season cover. For that, we can run the following code:"
   ]
  },
  {
   "cell_type": "code",
   "execution_count": 171,
   "metadata": {},
   "outputs": [
    {
     "name": "stdout",
     "output_type": "stream",
     "text": [
      "Season 2008/2009 matches from 2008-07-18 00:00:00 to 2009-05-31 00:00:00\n",
      "Season 2009/2010 matches from 2009-07-11 00:00:00 to 2010-05-16 00:00:00\n",
      "Season 2010/2011 matches from 2010-07-17 00:00:00 to 2011-05-29 00:00:00\n",
      "Season 2011/2012 matches from 2011-07-16 00:00:00 to 2012-05-23 00:00:00\n",
      "Season 2012/2013 matches from 2012-07-13 00:00:00 to 2013-06-02 00:00:00\n",
      "Season 2013/2014 matches from 2013-07-13 00:00:00 to 2014-05-18 00:00:00\n",
      "Season 2014/2015 matches from 2014-07-18 00:00:00 to 2015-05-31 00:00:00\n",
      "Season 2015/2016 matches from 2015-07-17 00:00:00 to 2016-05-25 00:00:00\n"
     ]
    }
   ],
   "source": [
    "for season in df_match['season'].value_counts().index.sort_values():\n",
    "  season_matches = df_match.loc[df_match['season'] == season].sort_values('date')\n",
    "  print(\"Season %s matches from %s to %s\" % (season, season_matches.iloc[0]['date'], season_matches.iloc[-1]['date']))"
   ]
  },
  {
   "attachments": {},
   "cell_type": "markdown",
   "metadata": {},
   "source": [
    "Which lets us know that a season covers from the 7th month of the 1st year to the 6th month of the next one."
   ]
  },
  {
   "attachments": {},
   "cell_type": "markdown",
   "metadata": {},
   "source": [
    "#### Team"
   ]
  },
  {
   "cell_type": "code",
   "execution_count": 172,
   "metadata": {},
   "outputs": [
    {
     "name": "stdout",
     "output_type": "stream",
     "text": [
      "<class 'pandas.core.frame.DataFrame'>\n",
      "Int64Index: 299 entries, 1 to 51606\n",
      "Data columns (total 4 columns):\n",
      "team_api_id         299 non-null int64\n",
      "team_fifa_api_id    288 non-null float64\n",
      "team_long_name      299 non-null object\n",
      "team_short_name     299 non-null object\n",
      "dtypes: float64(1), int64(1), object(2)\n",
      "memory usage: 11.7+ KB\n"
     ]
    }
   ],
   "source": [
    "df_team = pd.read_csv('Team.csv', index_col='id')\n",
    "df_team.info()"
   ]
  },
  {
   "attachments": {},
   "cell_type": "markdown",
   "metadata": {},
   "source": [
    "This dataframe is made of 299 rows, and the data types match the expected except for `team_fifa_api_id`. There are also some null values in `team_fifa_api_id` field, however since we're not interested in this column, we won't dig more about these. There's only left to check for duplicates and see some values:"
   ]
  },
  {
   "cell_type": "code",
   "execution_count": 173,
   "metadata": {},
   "outputs": [
    {
     "data": {
      "text/html": [
       "<div>\n",
       "<style scoped>\n",
       "    .dataframe tbody tr th:only-of-type {\n",
       "        vertical-align: middle;\n",
       "    }\n",
       "\n",
       "    .dataframe tbody tr th {\n",
       "        vertical-align: top;\n",
       "    }\n",
       "\n",
       "    .dataframe thead th {\n",
       "        text-align: right;\n",
       "    }\n",
       "</style>\n",
       "<table border=\"1\" class=\"dataframe\">\n",
       "  <thead>\n",
       "    <tr style=\"text-align: right;\">\n",
       "      <th></th>\n",
       "      <th>team_api_id</th>\n",
       "      <th>team_fifa_api_id</th>\n",
       "      <th>team_long_name</th>\n",
       "      <th>team_short_name</th>\n",
       "    </tr>\n",
       "    <tr>\n",
       "      <th>id</th>\n",
       "      <th></th>\n",
       "      <th></th>\n",
       "      <th></th>\n",
       "      <th></th>\n",
       "    </tr>\n",
       "  </thead>\n",
       "  <tbody>\n",
       "    <tr>\n",
       "      <th>1</th>\n",
       "      <td>9987</td>\n",
       "      <td>673.0</td>\n",
       "      <td>KRC Genk</td>\n",
       "      <td>GEN</td>\n",
       "    </tr>\n",
       "    <tr>\n",
       "      <th>2</th>\n",
       "      <td>9993</td>\n",
       "      <td>675.0</td>\n",
       "      <td>Beerschot AC</td>\n",
       "      <td>BAC</td>\n",
       "    </tr>\n",
       "    <tr>\n",
       "      <th>3</th>\n",
       "      <td>10000</td>\n",
       "      <td>15005.0</td>\n",
       "      <td>SV Zulte-Waregem</td>\n",
       "      <td>ZUL</td>\n",
       "    </tr>\n",
       "    <tr>\n",
       "      <th>4</th>\n",
       "      <td>9994</td>\n",
       "      <td>2007.0</td>\n",
       "      <td>Sporting Lokeren</td>\n",
       "      <td>LOK</td>\n",
       "    </tr>\n",
       "    <tr>\n",
       "      <th>5</th>\n",
       "      <td>9984</td>\n",
       "      <td>1750.0</td>\n",
       "      <td>KSV Cercle Brugge</td>\n",
       "      <td>CEB</td>\n",
       "    </tr>\n",
       "  </tbody>\n",
       "</table>\n",
       "</div>"
      ],
      "text/plain": [
       "    team_api_id  team_fifa_api_id     team_long_name team_short_name\n",
       "id                                                                  \n",
       "1          9987             673.0           KRC Genk             GEN\n",
       "2          9993             675.0       Beerschot AC             BAC\n",
       "3         10000           15005.0   SV Zulte-Waregem             ZUL\n",
       "4          9994            2007.0   Sporting Lokeren             LOK\n",
       "5          9984            1750.0  KSV Cercle Brugge             CEB"
      ]
     },
     "execution_count": 173,
     "metadata": {},
     "output_type": "execute_result"
    }
   ],
   "source": [
    "df_team.head()"
   ]
  },
  {
   "cell_type": "code",
   "execution_count": 174,
   "metadata": {},
   "outputs": [
    {
     "data": {
      "text/plain": [
       "0"
      ]
     },
     "execution_count": 174,
     "metadata": {},
     "output_type": "execute_result"
    }
   ],
   "source": [
    "df_team.duplicated().sum()"
   ]
  },
  {
   "attachments": {},
   "cell_type": "markdown",
   "metadata": {},
   "source": [
    "There are no duplicated rows, and the values match the data type (except for `team_fifa_api_id`, which we won't covert since we won't be using it).\n",
    "\n",
    "#### Team Attributes"
   ]
  },
  {
   "cell_type": "code",
   "execution_count": 175,
   "metadata": {},
   "outputs": [
    {
     "name": "stdout",
     "output_type": "stream",
     "text": [
      "<class 'pandas.core.frame.DataFrame'>\n",
      "Int64Index: 1458 entries, 1 to 1458\n",
      "Data columns (total 24 columns):\n",
      "team_fifa_api_id                  1458 non-null int64\n",
      "team_api_id                       1458 non-null int64\n",
      "date                              1458 non-null object\n",
      "buildUpPlaySpeed                  1458 non-null int64\n",
      "buildUpPlaySpeedClass             1458 non-null object\n",
      "buildUpPlayDribbling              489 non-null float64\n",
      "buildUpPlayDribblingClass         1458 non-null object\n",
      "buildUpPlayPassing                1458 non-null int64\n",
      "buildUpPlayPassingClass           1458 non-null object\n",
      "buildUpPlayPositioningClass       1458 non-null object\n",
      "chanceCreationPassing             1458 non-null int64\n",
      "chanceCreationPassingClass        1458 non-null object\n",
      "chanceCreationCrossing            1458 non-null int64\n",
      "chanceCreationCrossingClass       1458 non-null object\n",
      "chanceCreationShooting            1458 non-null int64\n",
      "chanceCreationShootingClass       1458 non-null object\n",
      "chanceCreationPositioningClass    1458 non-null object\n",
      "defencePressure                   1458 non-null int64\n",
      "defencePressureClass              1458 non-null object\n",
      "defenceAggression                 1458 non-null int64\n",
      "defenceAggressionClass            1458 non-null object\n",
      "defenceTeamWidth                  1458 non-null int64\n",
      "defenceTeamWidthClass             1458 non-null object\n",
      "defenceDefenderLineClass          1458 non-null object\n",
      "dtypes: float64(1), int64(10), object(13)\n",
      "memory usage: 284.8+ KB\n"
     ]
    }
   ],
   "source": [
    "df_team_attrs = pd.read_csv('Team_Attributes.csv', index_col='id')\n",
    "df_team_attrs.info()"
   ]
  },
  {
   "attachments": {},
   "cell_type": "markdown",
   "metadata": {},
   "source": [
    "We can see there's `buildUpPlayDribbling` with missing values, but the command didn't show all of the table columns, so we need to run a different approach."
   ]
  },
  {
   "cell_type": "code",
   "execution_count": 176,
   "metadata": {},
   "outputs": [
    {
     "data": {
      "text/plain": [
       "team_fifa_api_id                    0\n",
       "team_api_id                         0\n",
       "date                                0\n",
       "buildUpPlaySpeed                    0\n",
       "buildUpPlaySpeedClass               0\n",
       "buildUpPlayDribbling              969\n",
       "buildUpPlayDribblingClass           0\n",
       "buildUpPlayPassing                  0\n",
       "buildUpPlayPassingClass             0\n",
       "buildUpPlayPositioningClass         0\n",
       "chanceCreationPassing               0\n",
       "chanceCreationPassingClass          0\n",
       "chanceCreationCrossing              0\n",
       "chanceCreationCrossingClass         0\n",
       "chanceCreationShooting              0\n",
       "chanceCreationShootingClass         0\n",
       "chanceCreationPositioningClass      0\n",
       "defencePressure                     0\n",
       "defencePressureClass                0\n",
       "defenceAggression                   0\n",
       "defenceAggressionClass              0\n",
       "defenceTeamWidth                    0\n",
       "defenceTeamWidthClass               0\n",
       "defenceDefenderLineClass            0\n",
       "dtype: int64"
      ]
     },
     "execution_count": 176,
     "metadata": {},
     "output_type": "execute_result"
    }
   ],
   "source": [
    "df_team_attrs.isnull().sum()"
   ]
  },
  {
   "attachments": {},
   "cell_type": "markdown",
   "metadata": {},
   "source": [
    "It looks like this is the only column with `null` values. Luckily for us, we have an alternative `buildUpPlayDribblingClass`, which will allow us to infer a numeric value for `buildUpPlayDribbling` out of a human friendly description.  \n",
    "`buildUpPlayDribblingClass` values are `Little`, `Normal`, and `Lots`, as we can see by the following command:"
   ]
  },
  {
   "cell_type": "code",
   "execution_count": 177,
   "metadata": {},
   "outputs": [
    {
     "data": {
      "text/plain": [
       "Little    1004\n",
       "Normal     433\n",
       "Lots        21\n",
       "Name: buildUpPlayDribblingClass, dtype: int64"
      ]
     },
     "execution_count": 177,
     "metadata": {},
     "output_type": "execute_result"
    }
   ],
   "source": [
    "df_team_attrs['buildUpPlayDribblingClass'].value_counts()"
   ]
  },
  {
   "attachments": {},
   "cell_type": "markdown",
   "metadata": {},
   "source": [
    "If we get the `min`, `mean` and `max` numbers for those, **we can infer the missing values** by assigning\n",
    "* `Little` = `min`\n",
    "* `Normal` = `round(mean)` (as the type for this column should be `int64`)\n",
    "* `Lots` = `max`"
   ]
  },
  {
   "cell_type": "code",
   "execution_count": 178,
   "metadata": {},
   "outputs": [
    {
     "data": {
      "text/plain": [
       "count    489.000000\n",
       "mean      48.607362\n",
       "std        9.678290\n",
       "min       24.000000\n",
       "25%       42.000000\n",
       "50%       49.000000\n",
       "75%       55.000000\n",
       "max       77.000000\n",
       "Name: buildUpPlayDribbling, dtype: float64"
      ]
     },
     "execution_count": 178,
     "metadata": {},
     "output_type": "execute_result"
    }
   ],
   "source": [
    "df_team_attrs['buildUpPlayDribbling'].describe()"
   ]
  },
  {
   "cell_type": "code",
   "execution_count": 179,
   "metadata": {},
   "outputs": [
    {
     "data": {
      "text/plain": [
       "1"
      ]
     },
     "execution_count": 179,
     "metadata": {},
     "output_type": "execute_result"
    }
   ],
   "source": [
    "df_team_attrs.duplicated().sum()"
   ]
  },
  {
   "attachments": {},
   "cell_type": "markdown",
   "metadata": {},
   "source": [
    "We can see that there is one duplicated row. We'll have to clean it later.  \n",
    "\n",
    "During the analyisis, we will want to match team attributes with game results, so we need to check the time window in this table as well: "
   ]
  },
  {
   "cell_type": "code",
   "execution_count": 180,
   "metadata": {},
   "outputs": [
    {
     "name": "stdout",
     "output_type": "stream",
     "text": [
      "Values range from 2010-02-22 00:00:00 to 2015-09-10 00:00:00\n"
     ]
    }
   ],
   "source": [
    "print(\"Values range from %s to %s\" % (df_team_attrs.sort_values('date').iloc[0]['date'], df_team_attrs.sort_values('date').iloc[-1]['date']))"
   ]
  },
  {
   "attachments": {},
   "cell_type": "markdown",
   "metadata": {},
   "source": [
    "We can observe that `df_match` has a lot of info before 2010 that we won't be able to correlate. Thus, we may need to erase data in `df_match` between 2008-07-18 and 2010-02-22. Same for the other interval between 2015-09-10 and 2016-05-25. For now, we're going to populate a new `season` column on this dataframe so we can later join it with `df_match`. The condition to assign a given season to a specific row is based on the results seen for the Match table earlier."
   ]
  },
  {
   "cell_type": "code",
   "execution_count": 181,
   "metadata": {},
   "outputs": [
    {
     "data": {
      "text/html": [
       "<div>\n",
       "<style scoped>\n",
       "    .dataframe tbody tr th:only-of-type {\n",
       "        vertical-align: middle;\n",
       "    }\n",
       "\n",
       "    .dataframe tbody tr th {\n",
       "        vertical-align: top;\n",
       "    }\n",
       "\n",
       "    .dataframe thead th {\n",
       "        text-align: right;\n",
       "    }\n",
       "</style>\n",
       "<table border=\"1\" class=\"dataframe\">\n",
       "  <thead>\n",
       "    <tr style=\"text-align: right;\">\n",
       "      <th></th>\n",
       "      <th>team_fifa_api_id</th>\n",
       "      <th>team_api_id</th>\n",
       "      <th>date</th>\n",
       "      <th>buildUpPlaySpeed</th>\n",
       "      <th>buildUpPlaySpeedClass</th>\n",
       "      <th>buildUpPlayDribbling</th>\n",
       "      <th>buildUpPlayDribblingClass</th>\n",
       "      <th>buildUpPlayPassing</th>\n",
       "      <th>buildUpPlayPassingClass</th>\n",
       "      <th>buildUpPlayPositioningClass</th>\n",
       "      <th>...</th>\n",
       "      <th>chanceCreationShootingClass</th>\n",
       "      <th>chanceCreationPositioningClass</th>\n",
       "      <th>defencePressure</th>\n",
       "      <th>defencePressureClass</th>\n",
       "      <th>defenceAggression</th>\n",
       "      <th>defenceAggressionClass</th>\n",
       "      <th>defenceTeamWidth</th>\n",
       "      <th>defenceTeamWidthClass</th>\n",
       "      <th>defenceDefenderLineClass</th>\n",
       "      <th>season</th>\n",
       "    </tr>\n",
       "    <tr>\n",
       "      <th>id</th>\n",
       "      <th></th>\n",
       "      <th></th>\n",
       "      <th></th>\n",
       "      <th></th>\n",
       "      <th></th>\n",
       "      <th></th>\n",
       "      <th></th>\n",
       "      <th></th>\n",
       "      <th></th>\n",
       "      <th></th>\n",
       "      <th></th>\n",
       "      <th></th>\n",
       "      <th></th>\n",
       "      <th></th>\n",
       "      <th></th>\n",
       "      <th></th>\n",
       "      <th></th>\n",
       "      <th></th>\n",
       "      <th></th>\n",
       "      <th></th>\n",
       "      <th></th>\n",
       "    </tr>\n",
       "  </thead>\n",
       "  <tbody>\n",
       "    <tr>\n",
       "      <th>1</th>\n",
       "      <td>434</td>\n",
       "      <td>9930</td>\n",
       "      <td>2010-02-22 00:00:00</td>\n",
       "      <td>60</td>\n",
       "      <td>Balanced</td>\n",
       "      <td>NaN</td>\n",
       "      <td>Little</td>\n",
       "      <td>50</td>\n",
       "      <td>Mixed</td>\n",
       "      <td>Organised</td>\n",
       "      <td>...</td>\n",
       "      <td>Normal</td>\n",
       "      <td>Organised</td>\n",
       "      <td>50</td>\n",
       "      <td>Medium</td>\n",
       "      <td>55</td>\n",
       "      <td>Press</td>\n",
       "      <td>45</td>\n",
       "      <td>Normal</td>\n",
       "      <td>Cover</td>\n",
       "      <td>2009/2010</td>\n",
       "    </tr>\n",
       "  </tbody>\n",
       "</table>\n",
       "<p>1 rows × 25 columns</p>\n",
       "</div>"
      ],
      "text/plain": [
       "    team_fifa_api_id  team_api_id                 date  buildUpPlaySpeed  \\\n",
       "id                                                                         \n",
       "1                434         9930  2010-02-22 00:00:00                60   \n",
       "\n",
       "   buildUpPlaySpeedClass  buildUpPlayDribbling buildUpPlayDribblingClass  \\\n",
       "id                                                                         \n",
       "1               Balanced                   NaN                    Little   \n",
       "\n",
       "    buildUpPlayPassing buildUpPlayPassingClass buildUpPlayPositioningClass  \\\n",
       "id                                                                           \n",
       "1                   50                   Mixed                   Organised   \n",
       "\n",
       "    ...  chanceCreationShootingClass chanceCreationPositioningClass  \\\n",
       "id  ...                                                               \n",
       "1   ...                       Normal                      Organised   \n",
       "\n",
       "    defencePressure defencePressureClass  defenceAggression  \\\n",
       "id                                                            \n",
       "1                50               Medium                 55   \n",
       "\n",
       "   defenceAggressionClass defenceTeamWidth  defenceTeamWidthClass  \\\n",
       "id                                                                  \n",
       "1                   Press               45                 Normal   \n",
       "\n",
       "   defenceDefenderLineClass     season  \n",
       "id                                      \n",
       "1                     Cover  2009/2010  \n",
       "\n",
       "[1 rows x 25 columns]"
      ]
     },
     "execution_count": 181,
     "metadata": {},
     "output_type": "execute_result"
    }
   ],
   "source": [
    "def season_for_row(date):\n",
    "  if (date.month < 7):\n",
    "    return \"{}/{}\".format(date.year - 1, date.year)\n",
    "  return \"{}/{}\".format(date.year, date.year + 1)\n",
    "\n",
    "for i in df_team_attrs.index:\n",
    "  df_team_attrs.at[i, 'season'] = season_for_row(pd.to_datetime(df_team_attrs.loc[i]['date']))\n",
    "\n",
    "df_team_attrs.head(1)"
   ]
  },
  {
   "attachments": {},
   "cell_type": "markdown",
   "metadata": {},
   "source": [
    "A final point of concern here is whether there can be multiplie entries for a given team on the same season. If that's the case, we should either: pick the closer one when correlating attributes to matches, or calculate the average and use that result on the correlation:"
   ]
  },
  {
   "cell_type": "code",
   "execution_count": 182,
   "metadata": {},
   "outputs": [
    {
     "name": "stdout",
     "output_type": "stream",
     "text": [
      "Season 2009/2010 has 241 total rows. Grouping by team, there are 241 rows.\n",
      "Season 2010/2011 has 244 total rows. Grouping by team, there are 244 rows.\n",
      "Season 2011/2012 has 242 total rows. Grouping by team, there are 242 rows.\n",
      "Season 2013/2014 has 242 total rows. Grouping by team, there are 242 rows.\n",
      "Season 2014/2015 has 244 total rows. Grouping by team, there are 244 rows.\n",
      "Season 2015/2016 has 245 total rows. Grouping by team, there are 244 rows.\n"
     ]
    }
   ],
   "source": [
    "for season in df_team_attrs['season'].value_counts().index.sort_values():\n",
    "  season_attrs = df_team_attrs[['team_api_id', 'season']][(df_team_attrs['season'] == season)]\n",
    "  print(\"Season %s has %s total rows. Grouping by team, there are %s rows.\" % (season, len(season_attrs.index), len(season_attrs.groupby('team_api_id')['season'].value_counts().index)))"
   ]
  },
  {
   "attachments": {},
   "cell_type": "markdown",
   "metadata": {},
   "source": [
    "It looks like we have a team with more than one row on season `2015/2016`, but that's expected, as we saw earlier a single duplicate."
   ]
  },
  {
   "attachments": {},
   "cell_type": "markdown",
   "metadata": {},
   "source": [
    "### Data Cleaning\n",
    "\n",
    "Before beginning the EDA, for each dataframe we'll want to make sure that:\n",
    "\n",
    "* It only contains the columns we need for the analysis\n",
    "* The datatypes are well defined\n",
    "* Null values are properly addressed, either by filling with placeholder data or by dropping columns\n",
    "* There are no duplicates\n",
    "\n",
    "Thus, according to the previous section, the action items here are:\n",
    "* To keep only columns `[\"season\", \"country_id\", \"league_id\", \"date\", \"home_team_api_id\", \"away_team_api_id\", \"home_team_goal\", \"away_team_goal\"]` from `df_match`\n",
    "* To remove rows from `df_match` between 2008-07-18 and 2010-02-22 and between 2015-09-10 and 2016-05-25\n",
    "* To remove unused `team_fifa_api_id` from `df_team`\n",
    "* To remove duplicates from `df_team_attrs`\n",
    "* To assign inferred values to the `nulls` of `buildUpPlayDribbling` in `df_team_attrs`\n",
    "* To set the correct data type of column `buildUpPlayDribbling` from `float64` to `int64` in `df_team_attrs`\n",
    "* To remove unused `team_fifal_api_id` and `*Class` columns from `df_team_attrs`"
   ]
  },
  {
   "cell_type": "code",
   "execution_count": 183,
   "metadata": {
    "collapsed": true
   },
   "outputs": [],
   "source": [
    "df_match = df_match[[\"season\", \"country_id\", \"league_id\", \"date\", \"home_team_api_id\", \"away_team_api_id\", \"home_team_goal\", \"away_team_goal\"]]\n",
    "\n",
    "df_match.drop(df_match[df_match['date'] < \"2010-02-22\"].index, inplace=True)\n",
    "df_match.drop(df_match[df_match['date'] > \"2015-09-10\"].index, inplace=True)\n",
    "\n",
    "df_team.drop(columns=['team_fifa_api_id'], inplace=True)\n",
    "\n",
    "df_team_attrs.drop_duplicates(inplace=True)\n",
    "df_team_attrs.loc[df_team_attrs[\"buildUpPlayDribblingClass\"] == \"Little\", \"buildUpPlayDribbling\"] = 24\n",
    "df_team_attrs.loc[df_team_attrs[\"buildUpPlayDribblingClass\"] == \"Normal\", \"buildUpPlayDribbling\"] = 49\n",
    "df_team_attrs.loc[df_team_attrs[\"buildUpPlayDribblingClass\"] == \"Lots\", \"buildUpPlayDribbling\"] = 77\n",
    "\n",
    "df_team_attrs[\"buildUpPlayDribbling\"] = df_team_attrs[\"buildUpPlayDribbling\"].astype(int)\n",
    "\n",
    "df_team_attrs.drop(columns=['team_fifa_api_id'], inplace=True)\n",
    "\n",
    "for col in df_team_attrs.columns:\n",
    "    if col.endswith('Class'):\n",
    "        df_team_attrs.drop(columns=[col], inplace=True)"
   ]
  },
  {
   "attachments": {},
   "cell_type": "markdown",
   "metadata": {},
   "source": [
    "After this cleanup, we can ensure that `df_match` has the expected shape:"
   ]
  },
  {
   "cell_type": "code",
   "execution_count": 184,
   "metadata": {},
   "outputs": [
    {
     "name": "stdout",
     "output_type": "stream",
     "text": [
      "<class 'pandas.core.frame.DataFrame'>\n",
      "Int64Index: 17568 entries, 414 to 25969\n",
      "Data columns (total 8 columns):\n",
      "season              17568 non-null object\n",
      "country_id          17568 non-null int64\n",
      "league_id           17568 non-null int64\n",
      "date                17568 non-null object\n",
      "home_team_api_id    17568 non-null int64\n",
      "away_team_api_id    17568 non-null int64\n",
      "home_team_goal      17568 non-null int64\n",
      "away_team_goal      17568 non-null int64\n",
      "dtypes: int64(6), object(2)\n",
      "memory usage: 1.2+ MB\n"
     ]
    }
   ],
   "source": [
    "df_match.info()"
   ]
  },
  {
   "attachments": {},
   "cell_type": "markdown",
   "metadata": {},
   "source": [
    "As well as `df_team`:"
   ]
  },
  {
   "cell_type": "code",
   "execution_count": 185,
   "metadata": {},
   "outputs": [
    {
     "name": "stdout",
     "output_type": "stream",
     "text": [
      "<class 'pandas.core.frame.DataFrame'>\n",
      "Int64Index: 299 entries, 1 to 51606\n",
      "Data columns (total 3 columns):\n",
      "team_api_id        299 non-null int64\n",
      "team_long_name     299 non-null object\n",
      "team_short_name    299 non-null object\n",
      "dtypes: int64(1), object(2)\n",
      "memory usage: 9.3+ KB\n"
     ]
    }
   ],
   "source": [
    "df_team.info()"
   ]
  },
  {
   "attachments": {},
   "cell_type": "markdown",
   "metadata": {},
   "source": [
    "And the same for `df_team_attrs`:"
   ]
  },
  {
   "cell_type": "code",
   "execution_count": 186,
   "metadata": {},
   "outputs": [
    {
     "name": "stdout",
     "output_type": "stream",
     "text": [
      "<class 'pandas.core.frame.DataFrame'>\n",
      "Int64Index: 1457 entries, 1 to 1458\n",
      "Data columns (total 12 columns):\n",
      "team_api_id               1457 non-null int64\n",
      "date                      1457 non-null object\n",
      "buildUpPlaySpeed          1457 non-null int64\n",
      "buildUpPlayDribbling      1457 non-null int64\n",
      "buildUpPlayPassing        1457 non-null int64\n",
      "chanceCreationPassing     1457 non-null int64\n",
      "chanceCreationCrossing    1457 non-null int64\n",
      "chanceCreationShooting    1457 non-null int64\n",
      "defencePressure           1457 non-null int64\n",
      "defenceAggression         1457 non-null int64\n",
      "defenceTeamWidth          1457 non-null int64\n",
      "season                    1457 non-null object\n",
      "dtypes: int64(10), object(2)\n",
      "memory usage: 148.0+ KB\n"
     ]
    }
   ],
   "source": [
    "df_team_attrs.info()"
   ]
  },
  {
   "cell_type": "code",
   "execution_count": 187,
   "metadata": {},
   "outputs": [
    {
     "data": {
      "text/plain": [
       "0"
      ]
     },
     "execution_count": 187,
     "metadata": {},
     "output_type": "execute_result"
    }
   ],
   "source": [
    "df_team_attrs.duplicated().sum()"
   ]
  },
  {
   "attachments": {},
   "cell_type": "markdown",
   "metadata": {},
   "source": [
    "<a id='eda'></a>\n",
    "## Exploratory Data Analysis\n",
    "\n",
    "### What team attributes lead to the most victories?\n",
    "\n",
    "In order to try answering this question, we firstly want to visualize which teams won the most matches with the data we have. The `df_match` holds the number of goals scored by each team per match, however for our scenario, a new column specifying the winner team would be more suitable:"
   ]
  },
  {
   "cell_type": "code",
   "execution_count": 188,
   "metadata": {},
   "outputs": [
    {
     "name": "stdout",
     "output_type": "stream",
     "text": [
      "<class 'pandas.core.frame.DataFrame'>\n",
      "Int64Index: 13095 entries, 414 to 25967\n",
      "Data columns (total 10 columns):\n",
      "season              13095 non-null object\n",
      "country_id          13095 non-null int64\n",
      "league_id           13095 non-null int64\n",
      "date                13095 non-null object\n",
      "home_team_api_id    13095 non-null int64\n",
      "away_team_api_id    13095 non-null int64\n",
      "home_team_goal      13095 non-null int64\n",
      "away_team_goal      13095 non-null int64\n",
      "winner              13095 non-null int64\n",
      "loser               13095 non-null int64\n",
      "dtypes: int64(8), object(2)\n",
      "memory usage: 1.1+ MB\n"
     ]
    }
   ],
   "source": [
    "# In this subset we separate rows where the home team won, and set a new column _winner_ to the home team id\n",
    "df_home_winner = df_match.loc[df_match['home_team_goal'] > df_match['away_team_goal']].assign(winner=lambda x: x['home_team_api_id'])\n",
    "df_away_loser = df_match.loc[df_match['home_team_goal'] > df_match['away_team_goal']].assign(loser=lambda x: x['away_team_api_id'])\n",
    "df_home_winner['loser'] = df_away_loser['loser']\n",
    "\n",
    "# This subset will store the info with the visitor team wins\n",
    "df_away_winner = df_match.loc[df_match['home_team_goal'] < df_match['away_team_goal']].assign(winner=lambda x: x['away_team_api_id'])\n",
    "df_home_loser = df_match.loc[df_match['home_team_goal'] < df_match['away_team_goal']].assign(loser=lambda x: x['away_team_api_id'])\n",
    "df_away_winner['loser'] = df_home_loser['loser']\n",
    "\n",
    "# We join them again (would be like an outer merge)\n",
    "df_match = pd.concat([df_home_winner, df_away_winner])\n",
    "df_match.info()"
   ]
  },
  {
   "attachments": {},
   "cell_type": "markdown",
   "metadata": {},
   "source": [
    "We can see that from `17568` matches within the interval under study, there are `13095` with a clear winner.\n",
    "\n",
    "Now, in order to study which characteristics contributed to the victories (or defeats), we need to join the `df_team_attrs` with the `df_match`:"
   ]
  },
  {
   "cell_type": "code",
   "execution_count": 189,
   "metadata": {},
   "outputs": [],
   "source": [
    "df_winner_attrs = pd.merge(df_match, df_team_attrs, left_on=['season', 'winner'], right_on=['season', 'team_api_id'])\n",
    "df_loser_attrs = pd.merge(df_match, df_team_attrs, left_on=['season', 'loser'], right_on=['season', 'team_api_id'])"
   ]
  },
  {
   "cell_type": "code",
   "execution_count": 190,
   "metadata": {},
   "outputs": [
    {
     "name": "stdout",
     "output_type": "stream",
     "text": [
      "<class 'pandas.core.frame.DataFrame'>\n",
      "Int64Index: 10427 entries, 0 to 10426\n",
      "Data columns (total 21 columns):\n",
      "season                    10427 non-null object\n",
      "country_id                10427 non-null int64\n",
      "league_id                 10427 non-null int64\n",
      "date_x                    10427 non-null object\n",
      "home_team_api_id          10427 non-null int64\n",
      "away_team_api_id          10427 non-null int64\n",
      "home_team_goal            10427 non-null int64\n",
      "away_team_goal            10427 non-null int64\n",
      "winner                    10427 non-null int64\n",
      "loser                     10427 non-null int64\n",
      "team_api_id               10427 non-null int64\n",
      "date_y                    10427 non-null object\n",
      "buildUpPlaySpeed          10427 non-null int64\n",
      "buildUpPlayDribbling      10427 non-null int64\n",
      "buildUpPlayPassing        10427 non-null int64\n",
      "chanceCreationPassing     10427 non-null int64\n",
      "chanceCreationCrossing    10427 non-null int64\n",
      "chanceCreationShooting    10427 non-null int64\n",
      "defencePressure           10427 non-null int64\n",
      "defenceAggression         10427 non-null int64\n",
      "defenceTeamWidth          10427 non-null int64\n",
      "dtypes: int64(18), object(3)\n",
      "memory usage: 1.8+ MB\n"
     ]
    }
   ],
   "source": [
    "df_winner_attrs.info()"
   ]
  },
  {
   "cell_type": "code",
   "execution_count": 191,
   "metadata": {},
   "outputs": [
    {
     "name": "stdout",
     "output_type": "stream",
     "text": [
      "<class 'pandas.core.frame.DataFrame'>\n",
      "Int64Index: 10342 entries, 0 to 10341\n",
      "Data columns (total 21 columns):\n",
      "season                    10342 non-null object\n",
      "country_id                10342 non-null int64\n",
      "league_id                 10342 non-null int64\n",
      "date_x                    10342 non-null object\n",
      "home_team_api_id          10342 non-null int64\n",
      "away_team_api_id          10342 non-null int64\n",
      "home_team_goal            10342 non-null int64\n",
      "away_team_goal            10342 non-null int64\n",
      "winner                    10342 non-null int64\n",
      "loser                     10342 non-null int64\n",
      "team_api_id               10342 non-null int64\n",
      "date_y                    10342 non-null object\n",
      "buildUpPlaySpeed          10342 non-null int64\n",
      "buildUpPlayDribbling      10342 non-null int64\n",
      "buildUpPlayPassing        10342 non-null int64\n",
      "chanceCreationPassing     10342 non-null int64\n",
      "chanceCreationCrossing    10342 non-null int64\n",
      "chanceCreationShooting    10342 non-null int64\n",
      "defencePressure           10342 non-null int64\n",
      "defenceAggression         10342 non-null int64\n",
      "defenceTeamWidth          10342 non-null int64\n",
      "dtypes: int64(18), object(3)\n",
      "memory usage: 1.7+ MB\n"
     ]
    }
   ],
   "source": [
    "df_loser_attrs.info()"
   ]
  },
  {
   "attachments": {},
   "cell_type": "markdown",
   "metadata": {
    "collapsed": true
   },
   "source": [
    "At this point we have in `df_winner_attrs` the team attributes that define the winner teams. On the other side `df_loser_attrs` includes the attributes for those teams who lost the matches. Let's compare in graphics the results to try find conclussions:"
   ]
  },
  {
   "cell_type": "code",
   "execution_count": 192,
   "metadata": {},
   "outputs": [
    {
     "data": {
      "image/png": "[encoded data removed]",
      "text/plain": [
       "<Figure size 1080x360 with 3 Axes>"
      ]
     },
     "metadata": {
      "needs_background": "light"
     },
     "output_type": "display_data"
    },
    {
     "data": {
      "image/png": "[encoded data removed]",
      "text/plain": [
       "<Figure size 1080x360 with 3 Axes>"
      ]
     },
     "metadata": {
      "needs_background": "light"
     },
     "output_type": "display_data"
    },
    {
     "data": {
      "image/png": "[encoded data removed]",
      "text/plain": [
       "<Figure size 1080x360 with 3 Axes>"
      ]
     },
     "metadata": {
      "needs_background": "light"
     },
     "output_type": "display_data"
    }
   ],
   "source": [
    "winner_color = 'green'\n",
    "loser_color = 'orange'\n",
    "\n",
    "def plotFields(fields):\n",
    "  fig, axes = plt.subplots(1, len(fields), sharey='row')\n",
    "  fig.set_figheight(5)\n",
    "  fig.set_figwidth(5 * len(fields))\n",
    "\n",
    "  for i in range(len(fields)):\n",
    "    field = fields[i]\n",
    "    axes[i].hist(df_winner_attrs[field], color=winner_color, alpha=0.7, label='winners')\n",
    "    axes[i].hist(df_loser_attrs[field], color=loser_color, alpha=0.7, label='losers')\n",
    "    axes[i].legend()\n",
    "    axes[i].set_title(field + ' winners vs losers')\n",
    "  \n",
    "  plt.show()\n",
    "\n",
    "plotFields(['buildUpPlaySpeed', 'buildUpPlayDribbling', 'buildUpPlayPassing'])\n",
    "plotFields(['chanceCreationPassing', 'chanceCreationCrossing', 'chanceCreationShooting'])\n",
    "plotFields(['defencePressure', 'defenceAggression', 'defenceTeamWidth'])"
   ]
  },
  {
   "attachments": {},
   "cell_type": "markdown",
   "metadata": {},
   "source": [
    "### If we split the winners by league, do their team attributes vary?"
   ]
  },
  {
   "cell_type": "code",
   "execution_count": 193,
   "metadata": {
    "collapsed": true
   },
   "outputs": [
    {
     "data": {
      "image/png": "[encoded data removed]",
      "text/plain": [
       "<Figure size 1080x360 with 3 Axes>"
      ]
     },
     "metadata": {
      "needs_background": "light"
     },
     "output_type": "display_data"
    },
    {
     "data": {
      "image/png": "[encoded data removed]",
      "text/plain": [
       "<Figure size 1080x360 with 3 Axes>"
      ]
     },
     "metadata": {
      "needs_background": "light"
     },
     "output_type": "display_data"
    },
    {
     "data": {
      "image/png": "[encoded data removed]",
      "text/plain": [
       "<Figure size 1080x360 with 3 Axes>"
      ]
     },
     "metadata": {
      "needs_background": "light"
     },
     "output_type": "display_data"
    }
   ],
   "source": [
    "# We pick the 3 leagues with most samples with df_winner_attrs['league_id'].value_counts()\n",
    "leagues = [21518, 1729, 4769]\n",
    "df_winners_top_leagues = df_winner_attrs[df_winner_attrs['league_id'].isin(leagues)]\n",
    "\n",
    "def plotFields(fields):\n",
    "  color_0 = 'orange'\n",
    "  color_1 = 'green'\n",
    "  color_2 = 'blue'\n",
    "\n",
    "  fig, axes = plt.subplots(1, len(fields), sharey='row')\n",
    "  fig.set_figheight(5)\n",
    "  fig.set_figwidth(5 * len(fields))\n",
    "\n",
    "  for i in range(len(fields)):\n",
    "    field = fields[i]\n",
    "    axes[i].hist(df_winners_top_leagues[df_winners_top_leagues['league_id'] == leagues[0]][field], color=color_0, alpha=0.7, label=leagues[0])\n",
    "    axes[i].hist(df_winners_top_leagues[df_winners_top_leagues['league_id'] == leagues[1]][field], color=color_1, alpha=0.7, label=leagues[1])\n",
    "    axes[i].hist(df_winners_top_leagues[df_winners_top_leagues['league_id'] == leagues[2]][field], color=color_2, alpha=0.7, label=leagues[2])\n",
    "    axes[i].legend()\n",
    "    axes[i].set_title(field + ' by league')\n",
    "  \n",
    "  plt.show()\n",
    "\n",
    "plotFields(['buildUpPlaySpeed', 'buildUpPlayDribbling', 'buildUpPlayPassing'])\n",
    "plotFields(['chanceCreationPassing', 'chanceCreationCrossing', 'chanceCreationShooting'])\n",
    "plotFields(['defencePressure', 'defenceAggression', 'defenceTeamWidth'])\n"
   ]
  },
  {
   "attachments": {},
   "cell_type": "markdown",
   "metadata": {},
   "source": [
    "<a id='conclusions'></a>\n",
    "## Conclusions\n",
    "\n",
    "When it comes to answering the first question \"What team attributes lead to the most victories?\", we have to admit that **there are no clear differentiations between loser and winner teams**, we can see that in all of the presented plots, both graphs match. The only slight difference we can appreciate is with the `defenceTeamWidth`, where the distribution of the winner teams is less concentrated around the 50.\n",
    "\n",
    "One of the main limitations on the approach followed here is that we are using team attributes that weren't measured the day on the match. The main problem with this, is that the team players vary from game to game, and with them the team attributes vary too. Instead, we're assuming that a single sample for the team attributes applies for the whole season.\n",
    "\n",
    "In addition to the team players, results of a match may also vary due to external factors, such as weather, location (host or visitor), frequency between games (which may impact on players fatigue), etc. This reinforces that a single measure on the team attributes is not reliable for a whole season.\n",
    "\n",
    "Jumping into the second question: \"If we split the winners by league, do their team attributes vary?\", we can see more interesting results. The plots here are not very different between leagues though, yet there are some details we can spot between them.\n",
    "\n",
    "By looking at the [build-up](https://madaboutsports.in/what-is-build-up-in-football/#:~:text=To%20put%20simply%2C%20build%20up,via%20numerical%20or%20positional%20superiority.) play, we can see how the green league distribution is more skewed to the left on `buildUpPlaySpeed` than the blue and the yellow. This implies that teams in the green league which put the ball on the opponent's half faster, have more chance to win the game. On the other side, by taking a look at `buildUpPlayPassing` we observe that teams in the blue league who put the ball on the opponent's half through passes, have more chance of ending up winning the game.\n",
    "\n",
    "Moving forward to the analysis of the [chance creation](https://www.reddit.com/r/soccer/comments/2xy59p/is_there_an_official_definition_for_chance/), we can see pretty similar visuals on the three plots. Fine graining a little bit, on the `chanceCreationPassing`, it seems like teams in the yellow league with a value between 50 and 70 have higher probability to win the game than teams in the other leagues under analysis. On the other hand, teams in the blue league with values between 45 and 55 have higher probability to win than other teams within the same league. It's also worth mentioning the spike in the blue league at `chanceCreationCrossing` centered in value 50.\n",
    "\n",
    "In terms of defence, it's noticeable how teams in the yellow league with values higher than 55 have a lot more probability to be winners, where most of the blue league winners lay between 45 and 55. The rest of the charts offer similar distributions between the leagues.\n",
    "\n",
    "Although we cannot see clear differences between winner attributes in the different leagues, we cannot say either that the same strategy applied to win a league will be effective on a different one. There are slight differences that should be taken into account when conforming a team, depending on the league we're aiming to lead.\n",
    "\n",
    "When it comes to the limitations, the same we have for the same question apply to the second one.\n",
    "\n",
    "## Submitting your Project "
   ]
  },
  {
   "cell_type": "code",
   "execution_count": 194,
   "metadata": {
    "collapsed": true
   },
   "outputs": [
    {
     "data": {
      "text/plain": [
       "1"
      ]
     },
     "execution_count": 194,
     "metadata": {},
     "output_type": "execute_result"
    }
   ],
   "source": [
    "from subprocess import call\n",
    "call(['python', '-m', 'nbconvert', 'Investigate_a_Dataset.ipynb'])"
   ]
  }
 ],
 "metadata": {
  "kernelspec": {
   "display_name": "Python 3",
   "language": "python",
   "name": "python3"
  },
  "language_info": {
   "codemirror_mode": {
    "name": "ipython",
    "version": 3
   },
   "file_extension": ".py",
   "mimetype": "text/x-python",
   "name": "python",
   "nbconvert_exporter": "python",
   "pygments_lexer": "ipython3",
   "version": "3.6.13"
  }
 },
 "nbformat": 4,
 "nbformat_minor": 2
}
